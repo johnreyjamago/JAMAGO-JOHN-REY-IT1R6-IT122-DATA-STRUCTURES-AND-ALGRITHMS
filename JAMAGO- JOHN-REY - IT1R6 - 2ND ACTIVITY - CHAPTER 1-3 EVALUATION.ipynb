{
 "cells": [
  {
   "cell_type": "code",
   "execution_count": 2,
   "id": "suffering-player",
   "metadata": {},
   "outputs": [
    {
     "name": "stdout",
     "output_type": "stream",
     "text": [
      "\n",
      "i. Discuss your learnings on Chapter 1  time-frame 8:00 - 30:35. Minimum of 200 characters\n",
      "\n",
      "I learn a lot of things in chapter 1 about Algorithm and data structures. It was discuss in \n",
      "chapter 1 that algorithm is a well-defined computational procedure that takes some value, or\n",
      "set of values , as input and produces some value, or set of values , as output. It was also \n",
      "discuss in chapter 1 that Data Structures is a way to store and organize data in order to \n",
      "facilitate access and modifications . In short, Data structures is a data organization\n",
      "management. Correctness, time complexity and space complexity are the characteristic of a\n",
      "data structure. Interface and implementation are the foundation terms of data structure. \n",
      "There are three cases which are usually used to compare various data structure's execution \n",
      "time in a relative manner: Worst case, average case and best case .The instructor discussed \n",
      "briefly the reason why we need to learn data structure and algorithm as well. The common \n",
      "problems that application face nowadays are data search, processing speed and multiple \n",
      "request. The instructor also talk about how to write an algorithm.\n",
      "\n",
      "\n"
     ]
    }
   ],
   "source": [
    "print('''\n",
    "i. Discuss your learnings on Chapter 1  time-frame 8:00 - 30:35. Minimum of 200 characters\n",
    "\n",
    "I learn a lot of things in chapter 1 about Algorithm and data structures. It was discuss in \n",
    "chapter 1 that algorithm is a well-defined computational procedure that takes some value, or\n",
    "set of values , as input and produces some value, or set of values , as output. It was also \n",
    "discuss in chapter 1 that Data Structures is a way to store and organize data in order to \n",
    "facilitate access and modifications . In short, Data structures is a data organization\n",
    "management. Correctness, time complexity and space complexity are the characteristic of a\n",
    "data structure. Interface and implementation are the foundation terms of data structure. \n",
    "There are three cases which are usually used to compare various data structure's execution \n",
    "time in a relative manner: Worst case, average case and best case .The instructor discussed \n",
    "briefly the reason why we need to learn data structure and algorithm as well. The common \n",
    "problems that application face nowadays are data search, processing speed and multiple \n",
    "request. The instructor also talk about how to write an algorithm.\n",
    "\n",
    "''')"
   ]
  },
  {
   "cell_type": "code",
   "execution_count": 43,
   "id": "medieval-childhood",
   "metadata": {},
   "outputs": [
    {
     "name": "stdout",
     "output_type": "stream",
     "text": [
      "\n",
      "ii. Discuss your learnings on Chapter 1  time-frame 35:00 - end. Minimum of 200 characters\n",
      "\n",
      "In this part of chapter 1, the instructor discussed about algorithm, space and  time complexity. \n",
      "The time and space used by an algorithm are the two factors for algorithm complexity. The amount \n",
      "of memory space required by the algorithm is represented by space complexity. the amount of time\n",
      "required by the algorithm to run to completion was also represented by time complexity. In conclusion, \n",
      "planning your algorithm carefully is very important.\n",
      "\n"
     ]
    }
   ],
   "source": [
    "print('''\n",
    "ii. Discuss your learnings on Chapter 1  time-frame 35:00 - end. Minimum of 200 characters\n",
    "\n",
    "In this part of chapter 1, the instructor discussed about algorithm, space and  time complexity. \n",
    "The time and space used by an algorithm are the two factors for algorithm complexity. The amount \n",
    "of memory space required by the algorithm is represented by space complexity. the amount of time\n",
    "required by the algorithm to run to completion was also represented by time complexity. In conclusion, \n",
    "planning your algorithm carefully is very important.\n",
    "''')"
   ]
  },
  {
   "cell_type": "code",
   "execution_count": 1,
   "id": "raised-whale",
   "metadata": {},
   "outputs": [
    {
     "name": "stdout",
     "output_type": "stream",
     "text": [
      "\n",
      "iii. Discuss your learnings on Chapter 2  time-frame 5:00 - 9:00. Minimum of 200 characters\n",
      "\n",
      "I learn various things in chapter 2 about the basic concepts of data structures. Chapter\n",
      "two discusses the definition of data and it’s characteristic. Data type is a way to classify\n",
      "various types of data. Built in data type and derived data type are the wot data types. \n",
      "Built-in data type is a data type which it’s language has built in support. The following \n",
      "art built-in data types: Integers, boolean, floating, characters, and strings. Derived data\n",
      "types are those data types which are implementation-independent as they can be implemented\n",
      "in one or the other way are known as derived data types . The following are examples of\n",
      "derived data types: list, array, stack, and queue. List is used to store similar collection \n",
      "of data items.\n",
      "\n"
     ]
    }
   ],
   "source": [
    "print('''\n",
    "iii. Discuss your learnings on Chapter 2  time-frame 5:00 - 9:00. Minimum of 200 characters\n",
    "\n",
    "I learn various things in chapter 2 about the basic concepts of data structures. Chapter\n",
    "two discusses the definition of data and it’s characteristic. Data type is a way to classify\n",
    "various types of data. Built in data type and derived data type are the wot data types. \n",
    "Built-in data type is a data type which it’s language has built in support. The following \n",
    "art built-in data types: Integers, boolean, floating, characters, and strings. Derived data\n",
    "types are those data types which are implementation-independent as they can be implemented\n",
    "in one or the other way are known as derived data types . The following are examples of\n",
    "derived data types: list, array, stack, and queue. List is used to store similar collection \n",
    "of data items.\n",
    "''')"
   ]
  },
  {
   "cell_type": "code",
   "execution_count": 41,
   "id": "interested-antigua",
   "metadata": {},
   "outputs": [
    {
     "name": "stdout",
     "output_type": "stream",
     "text": [
      "\n",
      "iv. Discuss your learnings on Chapter 3  time-frame 3:00 - 18:00. Minimum of 200 characters\n",
      "\n",
      "I learn various things in chapter 3 specifically about arrays. Array is a container which \n",
      "can hold a fix number of items and these items should be of the same type. Both element\n",
      "and index are important terms to understand the concept of array. The instructor also \n",
      "discussed about the array’s basic operation. Following are the basic operations supported\n",
      "by an array:  Traverse, insertion, updating, deletion, search, and update.  \n",
      "\n"
     ]
    }
   ],
   "source": [
    "print('''\n",
    "iv. Discuss your learnings on Chapter 3  time-frame 3:00 - 18:00. Minimum of 200 characters\n",
    "\n",
    "I learn various things in chapter 3 specifically about arrays. Array is a container which \n",
    "can hold a fix number of items and these items should be of the same type. Both element\n",
    "and index are important terms to understand the concept of array. The instructor also \n",
    "discussed about the array’s basic operation. Following are the basic operations supported\n",
    "by an array:  Traverse, insertion, updating, deletion, search, and update.  \n",
    "''')"
   ]
  },
  {
   "cell_type": "code",
   "execution_count": 3,
   "id": "liked-attraction",
   "metadata": {},
   "outputs": [
    {
     "name": "stdout",
     "output_type": "stream",
     "text": [
      "v. Create your first array project.\n",
      "\n",
      "100\n",
      "200\n",
      "300\n",
      "400\n",
      "500\n",
      "\n",
      "100\n",
      "100\n",
      "200\n",
      "300\n",
      "400\n",
      "500\n",
      "600\n",
      "\n",
      "200\n",
      "300\n",
      "400\n",
      "500\n",
      "600\n",
      "\n",
      "100\n",
      "300\n",
      "400\n",
      "500\n",
      "600\n"
     ]
    }
   ],
   "source": [
    "print(\"v. Create your first array project.\\n\")\n",
    "from array import * #importing array\n",
    "Jarray = array('i', [100, 200, 300, 400, 500]) #declaring array\n",
    "for x in Jarray:\n",
    "    print(x)\n",
    "print(\"\")\n",
    "print (Jarray[0]) #accessing array element\n",
    "Jarray.insert(5, 600)\n",
    "for x in Jarray:\n",
    "    print (x)\n",
    "print(\"\")\n",
    "Jarray.remove(100) #deletion\n",
    "for x in Jarray:\n",
    "    print(x)\n",
    "print(\"\")\n",
    "Jarray[0] = 100 #update\n",
    "for x in Jarray:\n",
    "    print(x)"
   ]
  },
  {
   "cell_type": "code",
   "execution_count": null,
   "id": "thorough-understanding",
   "metadata": {},
   "outputs": [],
   "source": []
  }
 ],
 "metadata": {
  "kernelspec": {
   "display_name": "Python 3",
   "language": "python",
   "name": "python3"
  },
  "language_info": {
   "codemirror_mode": {
    "name": "ipython",
    "version": 3
   },
   "file_extension": ".py",
   "mimetype": "text/x-python",
   "name": "python",
   "nbconvert_exporter": "python",
   "pygments_lexer": "ipython3",
   "version": "3.9.2"
  }
 },
 "nbformat": 4,
 "nbformat_minor": 5
}
